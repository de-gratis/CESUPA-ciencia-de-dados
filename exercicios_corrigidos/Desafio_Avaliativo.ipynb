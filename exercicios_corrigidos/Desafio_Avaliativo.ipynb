{
 "cells": [
  {
   "attachments": {},
   "cell_type": "markdown",
   "metadata": {},
   "source": [
    "# Exercício corrigido e ~~comentado~~"
   ]
  },
  {
   "attachments": {},
   "cell_type": "markdown",
   "metadata": {},
   "source": [
    "Link para o dataset (é possível alocá-lo direto em uma variável sem se utilizar do arquivo .csv em si): https://gist.githubusercontent.com/tgcsantos/3bdb29eba6ce391e90df2b72205ba891/raw/22fa920e80c9fa209a9fccc8b52d74cc95d1599b/dados_imoveis.csv"
   ]
  },
  {
   "cell_type": "code",
   "execution_count": 43,
   "metadata": {},
   "outputs": [],
   "source": [
    "import pandas as pd\n",
    "import numpy as np"
   ]
  },
  {
   "cell_type": "code",
   "execution_count": 44,
   "metadata": {},
   "outputs": [],
   "source": [
    "url = \"https://gist.githubusercontent.com/tgcsantos/3bdb29eba6ce391e90df2b72205ba891/raw/22fa920e80c9fa209a9fccc8b52d74cc95d1599b/dados_imoveis.csv\"\n",
    "df = pd.read_csv(url)"
   ]
  },
  {
   "attachments": {},
   "cell_type": "markdown",
   "metadata": {},
   "source": [
    "## 1.\n",
    "Realizar a média da metragem para cara um dos bairros "
   ]
  },
  {
   "cell_type": "code",
   "execution_count": 45,
   "metadata": {},
   "outputs": [
    {
     "data": {
      "text/plain": [
       "Bairro\n",
       "Aclimação            253.056818\n",
       "Alto da Boa Vista    418.875000\n",
       "Alto da Lapa         294.337209\n",
       "Alto da Mooca        270.050000\n",
       "Alto de Pinheiros    433.444988\n",
       "                        ...    \n",
       "Vila Água Funda      152.200000\n",
       "Água Branca          191.000000\n",
       "Água Fria            165.416667\n",
       "Água Funda           139.000000\n",
       "Água Rasa            340.250000\n",
       "Name: Metragem, Length: 701, dtype: float64"
      ]
     },
     "execution_count": 45,
     "metadata": {},
     "output_type": "execute_result"
    }
   ],
   "source": [
    "df.groupby('Bairro')['Metragem'].mean()"
   ]
  },
  {
   "attachments": {},
   "cell_type": "markdown",
   "metadata": {},
   "source": [
    "## 2.\n",
    "Selecione os dados por bairro "
   ]
  },
  {
   "cell_type": "code",
   "execution_count": 46,
   "metadata": {},
   "outputs": [
    {
     "data": {
      "text/plain": [
       "Bairro     Rua                            Cidade     Metragem  Quartos  Banheiros  Vagas  Valor                                \n",
       "Aclimação  Avenida da Aclimação           São Paulo  262       3        1          3      R$ 1.380.000                             1\n",
       "           Rua Maranduba                  São Paulo  165       3        3          1      R$ 1.400.000                             1\n",
       "           Rua Oscar Guanabarino          São Paulo  300       3        3          3      R$ 7.000\\n                      /Mês     1\n",
       "                                                     215       3        2          3      R$ 7.000\\n                      /Mês     1\n",
       "                                                     210       3        2          3      R$ 7.000\\n                      /Mês     1\n",
       "                                                                                                                                  ..\n",
       "Água Rasa  Rua São José do Barreiro       São Paulo  805       6        7          10     R$ 15.000\\n                      /Mês    1\n",
       "                                                     800       6        7          10     R$ 15.000\\n                      /Mês    1\n",
       "           Rua Itaqueri                   São Paulo  150       3        3          3      R$ 790.000                               1\n",
       "           Rua Capitão João Rosa da Cruz  São Paulo  180       3        2          4      R$ 745.000                               1\n",
       "           Rua Vergel                     São Paulo  341       2        2          3      R$ 625.000                               1\n",
       "Length: 6197, dtype: int64"
      ]
     },
     "execution_count": 46,
     "metadata": {},
     "output_type": "execute_result"
    }
   ],
   "source": [
    "df.groupby('Bairro').value_counts()"
   ]
  },
  {
   "attachments": {},
   "cell_type": "markdown",
   "metadata": {},
   "source": [
    "## 3.\n",
    "Apresente o quantitativo de imoveis por bairro (Apresente os 10 primeiros)"
   ]
  },
  {
   "cell_type": "code",
   "execution_count": 47,
   "metadata": {},
   "outputs": [
    {
     "data": {
      "text/plain": [
       "Alto de Pinheiros     409\n",
       "Jardim Guedala        403\n",
       "Jardim Paulista       309\n",
       "Brooklin Paulista     247\n",
       "Jardim Europa         240\n",
       "                     ... \n",
       "Jardim das Imbuias      1\n",
       "Vila Represa            1\n",
       "Vila Nancy              1\n",
       "Sítio Represa           1\n",
       "Vila Invernada          1\n",
       "Name: Bairro, Length: 701, dtype: int64"
      ]
     },
     "execution_count": 47,
     "metadata": {},
     "output_type": "execute_result"
    }
   ],
   "source": [
    "df['Bairro'].value_counts()"
   ]
  },
  {
   "attachments": {},
   "cell_type": "markdown",
   "metadata": {},
   "source": [
    "## 4.\n",
    "Apresente as seguintes medidas estatísticas dos dados: média, mediana, min e max "
   ]
  },
  {
   "cell_type": "code",
   "execution_count": 48,
   "metadata": {},
   "outputs": [
    {
     "data": {
      "text/html": [
       "<div>\n",
       "<style scoped>\n",
       "    .dataframe tbody tr th:only-of-type {\n",
       "        vertical-align: middle;\n",
       "    }\n",
       "\n",
       "    .dataframe tbody tr th {\n",
       "        vertical-align: top;\n",
       "    }\n",
       "\n",
       "    .dataframe thead th {\n",
       "        text-align: right;\n",
       "    }\n",
       "</style>\n",
       "<table border=\"1\" class=\"dataframe\">\n",
       "  <thead>\n",
       "    <tr style=\"text-align: right;\">\n",
       "      <th></th>\n",
       "      <th>mean</th>\n",
       "      <th>median</th>\n",
       "      <th>min</th>\n",
       "      <th>max</th>\n",
       "    </tr>\n",
       "  </thead>\n",
       "  <tbody>\n",
       "    <tr>\n",
       "      <th>Metragem</th>\n",
       "      <td>442.300659</td>\n",
       "      <td>290.0</td>\n",
       "      <td>10.0</td>\n",
       "      <td>750000.0</td>\n",
       "    </tr>\n",
       "    <tr>\n",
       "      <th>Quartos</th>\n",
       "      <td>3.483114</td>\n",
       "      <td>3.0</td>\n",
       "      <td>1.0</td>\n",
       "      <td>16.0</td>\n",
       "    </tr>\n",
       "    <tr>\n",
       "      <th>Banheiros</th>\n",
       "      <td>3.879097</td>\n",
       "      <td>4.0</td>\n",
       "      <td>1.0</td>\n",
       "      <td>40.0</td>\n",
       "    </tr>\n",
       "    <tr>\n",
       "      <th>Vagas</th>\n",
       "      <td>4.097222</td>\n",
       "      <td>4.0</td>\n",
       "      <td>1.0</td>\n",
       "      <td>50.0</td>\n",
       "    </tr>\n",
       "  </tbody>\n",
       "</table>\n",
       "</div>"
      ],
      "text/plain": [
       "                 mean  median   min       max\n",
       "Metragem   442.300659   290.0  10.0  750000.0\n",
       "Quartos      3.483114     3.0   1.0      16.0\n",
       "Banheiros    3.879097     4.0   1.0      40.0\n",
       "Vagas        4.097222     4.0   1.0      50.0"
      ]
     },
     "execution_count": 48,
     "metadata": {},
     "output_type": "execute_result"
    }
   ],
   "source": [
    "df[['Metragem', 'Quartos', 'Banheiros', 'Vagas']].agg(\n",
    "    [np.mean, np.median, min, max]).T"
   ]
  },
  {
   "attachments": {},
   "cell_type": "markdown",
   "metadata": {},
   "source": [
    "## 5.\n",
    "Descobrir quais são os bairros que não tem nome de Rua."
   ]
  },
  {
   "cell_type": "code",
   "execution_count": 49,
   "metadata": {},
   "outputs": [
    {
     "data": {
      "text/plain": [
       "array(['Jardim Morumbi', 'Jardim Luzitânia', 'Parque da Lapa',\n",
       "       'Chácara Santo Antônio (Zona Sul)', 'Jardim Guedala',\n",
       "       'Vila Arriete', 'Alto de Pinheiros', 'Planalto Paulista',\n",
       "       'Vila Moinho Velho', 'Brooklin Paulista', 'Sumaré',\n",
       "       'Jardim Paulista', 'Vila Gustavo', 'Jardim Trussardi',\n",
       "       'Vila Madalena', 'Jardim dos Estados', 'Vila Santos',\n",
       "       'Jardim Europa', 'Butantã', 'Jardim Paulistano',\n",
       "       'Jardim Petrópolis', 'Vila Mariana', 'Vila Aparecida', 'Siciliano',\n",
       "       'Alto da Lapa', 'Jardim da Glória', 'Morumbi', 'Vila Ida',\n",
       "       'Cidade Jardim', 'Cidade Dutra', 'Água Fria', 'Parque Boturussu',\n",
       "       'Belenzinho', 'Vila Sônia', 'Jardim Panorama', 'Jardim Ampliação',\n",
       "       'Lauzane Paulista', 'Vila Sabrina', 'Vila Olímpia',\n",
       "       'Jardim Franca', 'Jardim Sílvia (Zona Oeste)', 'Santo Amaro',\n",
       "       'Mooca', 'Jardim América', 'Interlagos', 'Pacaembu',\n",
       "       'Jardim Santo Amaro', 'Vila Matilde', 'Vila Prudente',\n",
       "       'Vila Nova Conceição', 'Jardim Camargo Novo', 'Jardim Planalto',\n",
       "       'Santana', 'Jardim Patente Novo', 'Jardim das Camélias',\n",
       "       'Jardim Virginia Bianca', 'Jardim Viana',\n",
       "       'Jardim Célia (Zona Sul)', 'Parque Guarani', 'Vila Brasilina',\n",
       "       'Vila Antonieta', 'Vila Ema', 'Boaçava', 'Vila Morse',\n",
       "       'Itaim Bibi', 'Conjunto Residencial Vista Verde',\n",
       "       'Parque São Domingos', 'Jardim Leonor', 'Vila Albertina',\n",
       "       'Jardim Santo Elias', 'Vila Morumbi', 'Chácara Japonesa',\n",
       "       'Penha de França', 'Chácara Inglesa', 'City América', 'Pinheiros',\n",
       "       'Ipiranga', 'Jardim Everest', 'Vila Londrina', 'Vila Santa Maria',\n",
       "       'Cidade São Mateus', 'Paraíso', 'Tucuruvi', 'Vila Bertioga',\n",
       "       'Vila Cláudia', 'Vila Inah', 'Jardim Cordeiro', 'Fazenda Morumbi',\n",
       "       'Cidade Patriarca', 'Jardim Santa Maria', 'Chácara Monte Alegre',\n",
       "       'Parque Continental', 'Vila Sílvia', 'Bosque da Saúde',\n",
       "       'Jardim Celeste', 'Vila Comercial', 'Vila Monumento', 'Vila Gea',\n",
       "       'Vila Lageado', 'Vila Perus', 'Jardim Satélite', 'Cidade Monções',\n",
       "       'Consolação', 'Paineiras do Morumbi', 'Vila Progredior',\n",
       "       'Lapa de Baixo', 'Vila Araguaia', 'Vila Lúcia', 'Granja Julieta',\n",
       "       'Indianópolis', 'Jardim Prudência', 'Vila São Francisco',\n",
       "       'Lar São Paulo', 'Brooklin Novo', 'Perdizes', 'Cambuci', 'Lapa',\n",
       "       'Vila Palmeiras', 'Chácara Califórnia', 'Campo Belo',\n",
       "       'Instituto de Previdência', 'Vila Pompéia', 'Jardim Umuarama',\n",
       "       'Jardim Marajoara', 'Parque Colonial', 'Vila Leopoldina',\n",
       "       'Jardim Novo Mundo', 'Vila Tramontano', 'Jardim das Bandeiras',\n",
       "       'Jardim Monte Kemel', 'Vila Cordeiro', 'Retiro Morumbi',\n",
       "       'Vila Guarani (Z Sul)', 'Vila Cruzeiro', 'Sumarezinho',\n",
       "       'Itaberaba', 'Vila Salete', 'Chora Menino', 'Vila Campo Grande',\n",
       "       'Jardim Ana Maria', 'Vila Nova Caledonia', 'Vila Carbone',\n",
       "       'Vila Adalgisa', 'Mirandópolis', 'Jardim Bonfiglioli',\n",
       "       'Jardim Ester', 'Caxingui', 'Vila São Silvestre',\n",
       "       'Chácara Tatuapé', 'Real Parque', 'Cidade Domitila',\n",
       "       'Jardim Vila Mariana', \"Jardim Panorama D'Oeste\", 'Vila Suzana',\n",
       "       'Santa Cecília', 'Parque Residencial Oratorio', 'Parque da Mooca',\n",
       "       'Jardim Santa Cruz (Campo Grande)', 'Higienópolis',\n",
       "       'Jardim Triana', 'Moema', 'Cidade Centenário', 'Jaguaré',\n",
       "       'Jardim Miriam', 'Vila Oratório', 'Vila Clementino',\n",
       "       'Vila Ipojuca', 'Barra Funda', 'Jardim Petropolis',\n",
       "       'Jardim Vitória Régia', 'Vila Jacuí', 'Vila Califórnia(Zona Sul)',\n",
       "       'Vila Mafra', 'Vila Anhangüera', 'Jardim Consórcio', 'Vila Alpina',\n",
       "       'Jardim Rizzo', 'Vila Império', 'Vila Inglesa', 'Vila Nova Curuçá',\n",
       "       'Vila Paiva', 'Jardim Analia Franco', 'Saúde', 'Vila Prado',\n",
       "       'Tatuapé', 'Aclimação', 'Jardim Eliana', 'Paraíso do Morumbi',\n",
       "       'Jardim Teresa', 'Jardim Brasília (Zona Leste)', 'Jardim Danfer',\n",
       "       'Vila Romana', 'Vila Pedroso', 'Vila Brasílio Machado',\n",
       "       'Vila Anglo Brasileira', 'Vila Antônio', 'Chácara Meyer',\n",
       "       'Vila Paulicéia', 'Rio Pequeno', 'Jardim Santa Helena',\n",
       "       'Jardim Taboão', 'Parque Mandaqui', 'Capão Redondo',\n",
       "       'Vila Alexandria', 'Super Quadra Morumbi', 'Vila Ré',\n",
       "       'Parque Jabaquara', 'Jardim Londrina', 'Parque Novo Mundo',\n",
       "       'Jardim das Acácias', 'Vila Cardoso Franco', 'Jardim Campo Grande',\n",
       "       'Jardim Textil', 'Vila Mazzei', 'Vila Andrade', 'Jardim da Saúde',\n",
       "       'Jardim Colombo', 'Vila Nair', 'Quinta da Paineira',\n",
       "       'Jardim Gonzaga', 'Liberdade', 'Vila Carrão',\n",
       "       'Jardim Brasil (Zona Sul)', 'Parque São Lucas', 'Jardim Floresta',\n",
       "       'Chácara Mafalda', 'Vila ESão Pauloerança', 'Vila Nova Caledônia',\n",
       "       'Alto da Boa Vista', 'Vila Medeiros', 'Vila América',\n",
       "       'Vila Analia', 'Parque Santa Rita', 'Vila Moraes',\n",
       "       'Vila Rui Barbosa', 'Vila Bela', 'Jardim Amália',\n",
       "       'Parque da Vila Prudente', 'Vila Santana', 'Vila Canero',\n",
       "       'Vila Primavera', 'Brasilândia', 'Vila do Encontro',\n",
       "       'Jardim Ernestina', 'Jabaquara', 'Jardim Maria Duarte',\n",
       "       'Cidade Vargas', 'Jardim Hípico', 'Parada XV de Novembro',\n",
       "       'Jardim Bélgica', 'Jardim Jussara', 'Vila Formosa',\n",
       "       'Jardim São Carlos (Zona Sul)', 'Parque dos Príncipes',\n",
       "       'Vila Gomes Cardim', 'Vila Polopoli', 'Vila Macedópolis',\n",
       "       'Vila Virginia', 'Vila Boaçava', 'Água Branca', 'Bela Aliança',\n",
       "       'Tremembé', 'Cerqueira César', 'Jardim Cidade Pirituba',\n",
       "       'Vila Agueda', 'Vila Firmiano Pinto', 'Jardim Monte Alegre',\n",
       "       'Jardim Patente', 'Vila Buenos Aires', 'Jardim Jabaquara',\n",
       "       'Jardim Morro Verde', 'Vila Santa Catarina', 'Vila Califórnia',\n",
       "       'Jardim Ponte Rasa', 'Jardim Marília', 'Vila Guedes',\n",
       "       'Vila Congonhas', 'Jardim Vivan', 'Jardim Vila Carrão', 'Sacomã',\n",
       "       'Jardim Castelo', 'Vila Barbosa', 'Parque Imperial', 'Campininha',\n",
       "       'Jaraguá', 'Jardim Coimbra', 'Jardim Anália Franco',\n",
       "       'Vila Bancária Munhoz', 'Vila Ester (Zona Norte)', 'Brás',\n",
       "       'Alto da Mooca', 'Ferreira', 'Jardim Cidália', 'Cidade Ademar',\n",
       "       'Nova Piraju', \"Jardim D'Abril\", 'Paraisópolis',\n",
       "       'Parque Nações Unidas', 'Vila Gumercindo', 'Jardim Aeroporto',\n",
       "       'Brooklin', 'Vila Caraguatá', 'Jardim do Colégio (Zona Norte)',\n",
       "       'Parque Peruche', 'Chácara Belenzinho',\n",
       "       'Conjunto Residencial Butantã', 'Vila das Belezas',\n",
       "       'Burgo Paulista', 'Vila Paulista', 'Jardim Japão',\n",
       "       'Praia Paulistinha', 'Vila Antonina', 'Vila Sao Paulo',\n",
       "       'Vila Monte Alegre', 'Jardim Heliomar', 'Vila Ivg', 'Vila Curuçá',\n",
       "       'Vila Vera', 'Água Funda', 'Vila Romero', 'Vila Isa',\n",
       "       'Vila Talarico', 'Jardim Peri', 'Vila Dom Pedro I', 'Vila Simone',\n",
       "       'Vila Nivi', 'Vila São Paulo', 'Vila Bela Aliança',\n",
       "       'Vila São José (Ipiranga)', 'Vila Marieta', 'Vila das Mercês',\n",
       "       'Jardim Sarah', 'Vila Gomes', 'Vila Ayrosa', 'Jardim Dom Bosco',\n",
       "       'Parque Savoy City', 'Jardim Ester Yolanda', 'Chácara Flora',\n",
       "       'Vila Elvira', 'Vila Romano', 'Jardim Guarau',\n",
       "       'Vila Santo Estéfano', 'Vila Paulo Silas', 'Vila Carmosina',\n",
       "       'Jardim das Vertentes', 'Conjunto Residencial Morada do Sol',\n",
       "       'Jardim Tremembe', 'Parque Casa de Pedra', 'Vila Vasconcelos',\n",
       "       'Jardim Boa Vista (Zona Oeste)', 'Jardim Sul São Paulo',\n",
       "       'Jardim Vergueiro (Sacomã)', 'Vila Mira', 'Jardim Maria Estela',\n",
       "       'Jardim Rincão', 'Jardim Sabará', 'Aricanduva',\n",
       "       'Jardim Palmares (Zona Sul)', 'Vila Regente Feijó', 'Vila Darli',\n",
       "       'Jardim Nice', 'Vila Constancia', 'Jardim Pirituba', 'Vila Marari',\n",
       "       'Parque Maria Domitila', 'Parque Santo Antônio (Aricanduva)',\n",
       "       'Jardim Cidalia', 'Vila Tiradentes', 'Vila Sonia',\n",
       "       'Vila Gertrudes', 'Parque Edu Chaves', 'Parque São Rafael',\n",
       "       'Conjunto Habitacional Castro Alves', 'Cidade Mãe do Céu',\n",
       "       'Vila da Saúde', 'Itaquera', 'Vila Conde do Pinhal',\n",
       "       'Parque Monteiro Soares', 'Jardim Leonor Mendes de Barros',\n",
       "       'Vila Santa Clara', 'Sítio do Mandaqui', 'Jardim Independência',\n",
       "       'Vila Nova Pauliceia', 'Cidade Antônio Estevão de Carvalho',\n",
       "       'Vila Maria Alta', 'Vila Ponte Rasa', 'Jardim Guanca',\n",
       "       'Engenheiro Goulart', 'Vila Mascote', 'Jardim Vila Formosa',\n",
       "       'Cupecê', 'Jardim Itacolomi', 'Água Rasa', 'Parque Alves de Lima'],\n",
       "      dtype=object)"
      ]
     },
     "execution_count": 49,
     "metadata": {},
     "output_type": "execute_result"
    }
   ],
   "source": [
    "df['Bairro'][pd.isnull(df['Rua'])].unique()"
   ]
  },
  {
   "attachments": {},
   "cell_type": "markdown",
   "metadata": {},
   "source": [
    "## 6.\n",
    "Apresente o quantitativo de ruas faltantes por bairro"
   ]
  },
  {
   "cell_type": "code",
   "execution_count": 50,
   "metadata": {},
   "outputs": [
    {
     "data": {
      "text/plain": [
       "Jardim Guedala                      190\n",
       "Alto de Pinheiros                   169\n",
       "Jardim Paulista                     138\n",
       "Jardim Europa                       128\n",
       "Jardim Leonor                       118\n",
       "                                   ... \n",
       "Jardim do Colégio (Zona Norte)        1\n",
       "Alto da Boa Vista                     1\n",
       "Jardim Aeroporto                      1\n",
       "Conjunto Residencial Vista Verde      1\n",
       "Jardim Santo Elias                    1\n",
       "Name: Bairro, Length: 394, dtype: int64"
      ]
     },
     "execution_count": 50,
     "metadata": {},
     "output_type": "execute_result"
    }
   ],
   "source": [
    "df['Bairro'][pd.isnull(df['Rua'])].value_counts()"
   ]
  },
  {
   "attachments": {},
   "cell_type": "markdown",
   "metadata": {},
   "source": [
    "## 7.\n",
    "Apresente o total de bairros contidos no dataset"
   ]
  },
  {
   "cell_type": "code",
   "execution_count": 51,
   "metadata": {},
   "outputs": [
    {
     "data": {
      "text/plain": [
       "702"
      ]
     },
     "execution_count": 51,
     "metadata": {},
     "output_type": "execute_result"
    }
   ],
   "source": [
    "len(df['Bairro'].unique())"
   ]
  },
  {
   "attachments": {},
   "cell_type": "markdown",
   "metadata": {},
   "source": [
    "## 8.\n",
    "Mostre os 10 primeiros bairros presentes no dataset que tem metragem que vai de 150 a 500."
   ]
  },
  {
   "cell_type": "code",
   "execution_count": 52,
   "metadata": {},
   "outputs": [
    {
     "data": {
      "text/plain": [
       "1     Jardim dos Estados\n",
       "3         Jardim Morumbi\n",
       "5            Santo Amaro\n",
       "10        Vila Monumento\n",
       "11      Jardim Luzitânia\n",
       "12       Vila Uberabinha\n",
       "13      Jardim Prudência\n",
       "14      Lauzane Paulista\n",
       "16             Vila Nova\n",
       "17             Itaberaba\n",
       "Name: Bairro, dtype: object"
      ]
     },
     "execution_count": 52,
     "metadata": {},
     "output_type": "execute_result"
    }
   ],
   "source": [
    "df['Bairro'][(df['Metragem'] > 150) & (df['Metragem'] < 500)].head(10)"
   ]
  },
  {
   "attachments": {},
   "cell_type": "markdown",
   "metadata": {},
   "source": [
    "## 9.\n",
    "Apresente a rua com o valor médio de imoveis mais alto do dataset"
   ]
  },
  {
   "cell_type": "code",
   "execution_count": null,
   "metadata": {},
   "outputs": [],
   "source": []
  },
  {
   "attachments": {},
   "cell_type": "markdown",
   "metadata": {},
   "source": [
    "## 10.\n",
    "Faça um gráfico com as 10 ruas que possuem os imoveis mais baratos do dataset"
   ]
  },
  {
   "cell_type": "code",
   "execution_count": null,
   "metadata": {},
   "outputs": [],
   "source": []
  }
 ],
 "metadata": {
  "kernelspec": {
   "display_name": "Python 3",
   "language": "python",
   "name": "python3"
  },
  "language_info": {
   "codemirror_mode": {
    "name": "ipython",
    "version": 3
   },
   "file_extension": ".py",
   "mimetype": "text/x-python",
   "name": "python",
   "nbconvert_exporter": "python",
   "pygments_lexer": "ipython3",
   "version": "3.11.1"
  },
  "orig_nbformat": 4
 },
 "nbformat": 4,
 "nbformat_minor": 2
}
