{
  "cells": [
    {
      "cell_type": "markdown",
      "id": "eb29fb7a-5c3a-46df-a5f9-627148c66351",
      "metadata": {
        "id": "eb29fb7a-5c3a-46df-a5f9-627148c66351"
      },
      "source": [
        "## Exercícios"
      ]
    },
    {
      "cell_type": "markdown",
      "id": "ad2f7eba-5091-4fec-b113-487186883a09",
      "metadata": {
        "id": "ad2f7eba-5091-4fec-b113-487186883a09"
      },
      "source": [
        "Link para Dataset: https://www.kaggle.com/datasets/matheusfreitag/gas-prices-in-brazil"
      ]
    },
    {
      "cell_type": "code",
      "execution_count": null,
      "id": "d0e9c6b9-3840-47a5-956f-9954b612c657",
      "metadata": {
        "id": "d0e9c6b9-3840-47a5-956f-9954b612c657"
      },
      "outputs": [],
      "source": [
        "import pandas as pd"
      ]
    },
    {
      "cell_type": "markdown",
      "id": "76366baf-6608-4ad2-b14b-ff048e5adb90",
      "metadata": {
        "id": "76366baf-6608-4ad2-b14b-ff048e5adb90"
      },
      "source": [
        "## Trabalharemos com dois arquivos csvs separados, contendo informações sobre o preço da gasolina no Brasil. \n",
        "\n",
        "### 1. Carregue os conjuntos de dados \"gasolina_2000+.csv\" e \"gasolina_2010+.csv\" em dois DataFrames diferentes e combine-os em um único DataFrame."
      ]
    },
    {
      "cell_type": "code",
      "execution_count": null,
      "id": "c7decfae-2c39-48fb-8412-6dd2e789f28e",
      "metadata": {
        "id": "c7decfae-2c39-48fb-8412-6dd2e789f28e"
      },
      "outputs": [],
      "source": []
    },
    {
      "cell_type": "markdown",
      "id": "6cd74f39-565b-47ea-9171-9679eb964b1c",
      "metadata": {
        "id": "6cd74f39-565b-47ea-9171-9679eb964b1c"
      },
      "source": [
        "### 2.Investigue as colunas e entenda o conjunto de dados usando o head() e info()"
      ]
    },
    {
      "cell_type": "code",
      "execution_count": null,
      "id": "b7e569b5-212e-4e0f-9531-6c0d48b953c6",
      "metadata": {
        "id": "b7e569b5-212e-4e0f-9531-6c0d48b953c6"
      },
      "outputs": [],
      "source": []
    },
    {
      "cell_type": "markdown",
      "id": "2bcb2d2f-1c32-4583-8981-ca5b6ed0e048",
      "metadata": {
        "id": "2bcb2d2f-1c32-4583-8981-ca5b6ed0e048"
      },
      "source": [
        "### 3. Selecione a terceira entrada da coluna DATA INICIAL e verifique seu tipo."
      ]
    },
    {
      "cell_type": "code",
      "execution_count": null,
      "id": "c4399a8c-0ad3-4b6e-bcd8-d701438892fe",
      "metadata": {
        "id": "c4399a8c-0ad3-4b6e-bcd8-d701438892fe"
      },
      "outputs": [],
      "source": []
    },
    {
      "cell_type": "markdown",
      "id": "7eda8c87-eef7-4b66-97ee-46629b214fc7",
      "metadata": {
        "id": "7eda8c87-eef7-4b66-97ee-46629b214fc7"
      },
      "source": [
        "### 4. Você deve ter percebido que as colunas DATA INICIAL e DATA FINAL estão formatadas como string. Utilizando o método pd.to_datetime(), converta ambas colunas para Timestamp / Datetime."
      ]
    },
    {
      "cell_type": "code",
      "execution_count": null,
      "id": "6813ae62-bdd0-4f73-8278-7fa0e0027f9c",
      "metadata": {
        "id": "6813ae62-bdd0-4f73-8278-7fa0e0027f9c"
      },
      "outputs": [],
      "source": []
    },
    {
      "cell_type": "markdown",
      "id": "2f9aaafa-f9a4-4f07-9bc6-86e5911c863c",
      "metadata": {
        "id": "2f9aaafa-f9a4-4f07-9bc6-86e5911c863c"
      },
      "source": [
        "### 5. Crie uma nova coluna para representar o mês e o ano (mm-aaaa), utilizando a coluna DATA FINAL como referência. "
      ]
    },
    {
      "cell_type": "code",
      "execution_count": null,
      "id": "03f15a92-bae5-4256-add1-a7c97fe9f01d",
      "metadata": {
        "id": "03f15a92-bae5-4256-add1-a7c97fe9f01d"
      },
      "outputs": [],
      "source": []
    },
    {
      "cell_type": "markdown",
      "id": "7d25e880-b153-4cce-8268-8388c3de52a3",
      "metadata": {
        "id": "7d25e880-b153-4cce-8268-8388c3de52a3"
      },
      "source": [
        "### 6. Utilizando o value_counts(), liste todos os tipos de produtos contidos na base de dados."
      ]
    },
    {
      "cell_type": "code",
      "execution_count": null,
      "id": "f953fa16-59bd-40d9-90c0-af138acb4191",
      "metadata": {
        "id": "f953fa16-59bd-40d9-90c0-af138acb4191"
      },
      "outputs": [],
      "source": []
    },
    {
      "cell_type": "markdown",
      "id": "fab0300f-7c49-48be-b95a-948601713229",
      "metadata": {
        "id": "fab0300f-7c49-48be-b95a-948601713229"
      },
      "source": [
        "### 7. Filtre o DataFrame para obter apenas dados da 'GASOLINA COMUM'. Grave em uma nova variável."
      ]
    },
    {
      "cell_type": "code",
      "execution_count": null,
      "id": "a0a0f0e7-f11f-42a8-816f-c96eab4e812c",
      "metadata": {
        "id": "a0a0f0e7-f11f-42a8-816f-c96eab4e812c"
      },
      "outputs": [],
      "source": []
    },
    {
      "cell_type": "markdown",
      "id": "fb031b0b-51e7-43d7-b2cb-10da05019a73",
      "metadata": {
        "id": "fb031b0b-51e7-43d7-b2cb-10da05019a73"
      },
      "source": [
        "### 8. Qual o preço médio de revenda da gasolina em agosto de 2008?"
      ]
    },
    {
      "cell_type": "code",
      "execution_count": null,
      "id": "3ba34e10-cc51-4b04-b67a-4245248907ed",
      "metadata": {
        "id": "3ba34e10-cc51-4b04-b67a-4245248907ed"
      },
      "outputs": [],
      "source": []
    },
    {
      "cell_type": "markdown",
      "id": "a57428cc-e9e6-48f8-a7f7-27fb9c87bcde",
      "metadata": {
        "id": "a57428cc-e9e6-48f8-a7f7-27fb9c87bcde"
      },
      "source": [
        "### 9. Qual o preço médio de revenda da gasolina em maio de 2014 em São Paulo?"
      ]
    },
    {
      "cell_type": "code",
      "execution_count": null,
      "id": "e981678b-85db-499a-8466-e24c455ea20c",
      "metadata": {
        "id": "e981678b-85db-499a-8466-e24c455ea20c"
      },
      "outputs": [],
      "source": []
    },
    {
      "cell_type": "markdown",
      "id": "6ab2edd0-8bf7-49d7-b3e8-5535ec4a58cf",
      "metadata": {
        "id": "6ab2edd0-8bf7-49d7-b3e8-5535ec4a58cf"
      },
      "source": [
        "### 10. Você conseguiria descobrir em qual(quais) estado(s) a gasolina ultrapassou a barreira dos R$ 5,00? E quando isso ocorreu?"
      ]
    },
    {
      "cell_type": "code",
      "execution_count": null,
      "id": "32a9045a-899c-4775-8b66-c0490f3e62a7",
      "metadata": {
        "id": "32a9045a-899c-4775-8b66-c0490f3e62a7"
      },
      "outputs": [],
      "source": []
    },
    {
      "cell_type": "markdown",
      "id": "80f4c3a6-ba0e-43b0-a328-91c0aa04348c",
      "metadata": {
        "id": "80f4c3a6-ba0e-43b0-a328-91c0aa04348c"
      },
      "source": [
        "### 11. Qual a média de preço dos estados da região sul em 2012?"
      ]
    },
    {
      "cell_type": "code",
      "execution_count": null,
      "id": "e6bbbe89-3dc9-4264-ba31-2ce5aa76054b",
      "metadata": {
        "id": "e6bbbe89-3dc9-4264-ba31-2ce5aa76054b"
      },
      "outputs": [],
      "source": []
    },
    {
      "cell_type": "markdown",
      "id": "28781cbf-0dba-4512-83df-87537e548c63",
      "metadata": {
        "id": "28781cbf-0dba-4512-83df-87537e548c63"
      },
      "source": [
        "### 12. Você conseguiria obter uma tabela contendo a variação percentual ano a ano para o estado do Rio de Janeiro?"
      ]
    },
    {
      "cell_type": "code",
      "execution_count": null,
      "id": "09d2d505-127b-47ff-8fe5-0c6170da3900",
      "metadata": {
        "id": "09d2d505-127b-47ff-8fe5-0c6170da3900"
      },
      "outputs": [],
      "source": []
    },
    {
      "cell_type": "markdown",
      "id": "d5e51a54-13f7-4f62-9903-235ac6256b38",
      "metadata": {
        "id": "d5e51a54-13f7-4f62-9903-235ac6256b38"
      },
      "source": [
        "### DESAFIO: Crie uma tabela contendo uma serie temporal com a diferença absoluta e percentual entre os valores mais baratos e caros. Apresente também ao lado os estados na qual os maiores e menores preços foram registrados."
      ]
    },
    {
      "cell_type": "code",
      "execution_count": null,
      "id": "54791ed9-964c-4626-970b-406c96e59853",
      "metadata": {
        "id": "54791ed9-964c-4626-970b-406c96e59853"
      },
      "outputs": [],
      "source": []
    }
  ],
  "metadata": {
    "colab": {
      "provenance": []
    },
    "kernelspec": {
      "display_name": "Python 3 (ipykernel)",
      "language": "python",
      "name": "python3"
    },
    "language_info": {
      "codemirror_mode": {
        "name": "ipython",
        "version": 3
      },
      "file_extension": ".py",
      "mimetype": "text/x-python",
      "name": "python",
      "nbconvert_exporter": "python",
      "pygments_lexer": "ipython3",
      "version": "3.9.12"
    }
  },
  "nbformat": 4,
  "nbformat_minor": 5
}
